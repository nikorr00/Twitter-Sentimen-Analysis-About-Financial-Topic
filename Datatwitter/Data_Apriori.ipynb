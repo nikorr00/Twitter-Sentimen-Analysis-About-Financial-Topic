{
 "cells": [
  {
   "cell_type": "code",
   "execution_count": 11,
   "id": "f3ee31a2",
   "metadata": {},
   "outputs": [],
   "source": [
    "#Mengimpor library yang diperlukan\n",
    "import numpy as np\n",
    "import pandas as pd"
   ]
  },
  {
   "cell_type": "code",
   "execution_count": 12,
   "id": "141e1eff",
   "metadata": {},
   "outputs": [
    {
     "name": "stderr",
     "output_type": "stream",
     "text": [
      "C:\\Users\\NIKORAM\\AppData\\Local\\Temp\\ipykernel_3048\\2499870825.py:1: FutureWarning: The error_bad_lines argument has been deprecated and will be removed in a future version. Use on_bad_lines in the future.\n",
      "\n",
      "\n",
      "  data = pd.read_csv('Text_Preprocessing.csv',encoding='utf-8',error_bad_lines=False)\n"
     ]
    },
    {
     "data": {
      "text/html": [
       "<div>\n",
       "<style scoped>\n",
       "    .dataframe tbody tr th:only-of-type {\n",
       "        vertical-align: middle;\n",
       "    }\n",
       "\n",
       "    .dataframe tbody tr th {\n",
       "        vertical-align: top;\n",
       "    }\n",
       "\n",
       "    .dataframe thead th {\n",
       "        text-align: right;\n",
       "    }\n",
       "</style>\n",
       "<table border=\"1\" class=\"dataframe\">\n",
       "  <thead>\n",
       "    <tr style=\"text-align: right;\">\n",
       "      <th></th>\n",
       "      <th>Unnamed: 0</th>\n",
       "      <th>Id</th>\n",
       "      <th>Text</th>\n",
       "      <th>klasifikasi</th>\n",
       "    </tr>\n",
       "  </thead>\n",
       "  <tbody>\n",
       "    <tr>\n",
       "      <th>0</th>\n",
       "      <td>0</td>\n",
       "      <td>1,56E+18</td>\n",
       "      <td>17-run inning!\\n\\nthe triple-a @astros affilia...</td>\n",
       "      <td>neutral</td>\n",
       "    </tr>\n",
       "    <tr>\n",
       "      <th>1</th>\n",
       "      <td>1</td>\n",
       "      <td>1,56E+18</td>\n",
       "      <td>ambassador @wbstevens, as an swfa affiliate me...</td>\n",
       "      <td>positive</td>\n",
       "    </tr>\n",
       "    <tr>\n",
       "      <th>2</th>\n",
       "      <td>2</td>\n",
       "      <td>1,56E+18</td>\n",
       "      <td>the circuit's 3ssb coach of the year: pres. by...</td>\n",
       "      <td>positive</td>\n",
       "    </tr>\n",
       "    <tr>\n",
       "      <th>3</th>\n",
       "      <td>3</td>\n",
       "      <td>1,56E+18</td>\n",
       "      <td>?multiuse code?\\n50%off\\ncode: 50vnxfxo\\n?let ...</td>\n",
       "      <td>neutral</td>\n",
       "    </tr>\n",
       "    <tr>\n",
       "      <th>4</th>\n",
       "      <td>4</td>\n",
       "      <td>1,56E+18</td>\n",
       "      <td>streaming tonight!\\nfirst stream as affiliate!...</td>\n",
       "      <td>positive</td>\n",
       "    </tr>\n",
       "  </tbody>\n",
       "</table>\n",
       "</div>"
      ],
      "text/plain": [
       "   Unnamed: 0        Id                                               Text  \\\n",
       "0           0  1,56E+18  17-run inning!\\n\\nthe triple-a @astros affilia...   \n",
       "1           1  1,56E+18  ambassador @wbstevens, as an swfa affiliate me...   \n",
       "2           2  1,56E+18  the circuit's 3ssb coach of the year: pres. by...   \n",
       "3           3  1,56E+18  ?multiuse code?\\n50%off\\ncode: 50vnxfxo\\n?let ...   \n",
       "4           4  1,56E+18  streaming tonight!\\nfirst stream as affiliate!...   \n",
       "\n",
       "  klasifikasi  \n",
       "0     neutral  \n",
       "1    positive  \n",
       "2    positive  \n",
       "3     neutral  \n",
       "4    positive  "
      ]
     },
     "execution_count": 12,
     "metadata": {},
     "output_type": "execute_result"
    }
   ],
   "source": [
    "#Meload dan Mengekspor data\n",
    "data = pd.read_csv('Text_Preprocessing.csv',encoding='utf-8',error_bad_lines=False)\n",
    "data.head()"
   ]
  },
  {
   "cell_type": "code",
   "execution_count": 13,
   "id": "911276d5",
   "metadata": {},
   "outputs": [
    {
     "data": {
      "text/plain": [
       "Index(['Unnamed: 0', 'Id', 'Text', 'klasifikasi'], dtype='object')"
      ]
     },
     "execution_count": 13,
     "metadata": {},
     "output_type": "execute_result"
    }
   ],
   "source": [
    "#Mengeksplor kolom data\n",
    "data.columns"
   ]
  },
  {
   "cell_type": "code",
   "execution_count": null,
   "id": "60200f1a",
   "metadata": {},
   "outputs": [],
   "source": []
  }
 ],
 "metadata": {
  "kernelspec": {
   "display_name": "Python 3 (ipykernel)",
   "language": "python",
   "name": "python3"
  },
  "language_info": {
   "codemirror_mode": {
    "name": "ipython",
    "version": 3
   },
   "file_extension": ".py",
   "mimetype": "text/x-python",
   "name": "python",
   "nbconvert_exporter": "python",
   "pygments_lexer": "ipython3",
   "version": "3.10.4"
  }
 },
 "nbformat": 4,
 "nbformat_minor": 5
}
