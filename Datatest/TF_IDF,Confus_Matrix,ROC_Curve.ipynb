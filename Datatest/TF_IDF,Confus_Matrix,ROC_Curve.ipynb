{
 "cells": [
  {
   "cell_type": "code",
   "execution_count": null,
   "metadata": {
    "id": "b5wMzKuFQzoW"
   },
   "outputs": [],
   "source": [
    "import pandas as pd \n",
    "import numpy as np\n",
    "from sklearn.model_selection import train_test_split \n",
    "from sklearn.feature_extraction.text import TfidfVectorizer\n",
    "from sklearn.metrics import confusion_matrix, classification_report\n",
    "import seaborn as sns\n",
    "from wordcloud import WordCloud\n",
    "import matplotlib.pyplot as plt"
   ]
  },
  {
   "cell_type": "code",
   "execution_count": null,
   "metadata": {
    "id": "tlqAnDPjQ454"
   },
   "outputs": [],
   "source": [
    "# Load Data\n",
    "\n",
    "data= pd.read_csv(r\"Text_Preprocessing.csv\")"
   ]
  },
  {
   "cell_type": "code",
   "execution_count": null,
   "metadata": {
    "colab": {
     "base_uri": "https://localhost:8080/",
     "height": 606
    },
    "id": "Q7eSc13YQ8Tu",
    "outputId": "d517783c-b16b-4b83-af72-c9d9f666e562"
   },
   "outputs": [
    {
     "data": {
      "text/html": [
       "<div>\n",
       "<style scoped>\n",
       "    .dataframe tbody tr th:only-of-type {\n",
       "        vertical-align: middle;\n",
       "    }\n",
       "\n",
       "    .dataframe tbody tr th {\n",
       "        vertical-align: top;\n",
       "    }\n",
       "\n",
       "    .dataframe thead th {\n",
       "        text-align: right;\n",
       "    }\n",
       "</style>\n",
       "<table border=\"1\" class=\"dataframe\">\n",
       "  <thead>\n",
       "    <tr style=\"text-align: right;\">\n",
       "      <th></th>\n",
       "      <th>Unnamed: 0</th>\n",
       "      <th>tweet</th>\n",
       "      <th>klasifikasi</th>\n",
       "      <th>tweet_tokens</th>\n",
       "      <th>tweet_tokens_fdist</th>\n",
       "      <th>tweet_tokens_WSW</th>\n",
       "      <th>tweet_normalized</th>\n",
       "      <th>tweet_tokens_stemmed</th>\n",
       "    </tr>\n",
       "  </thead>\n",
       "  <tbody>\n",
       "    <tr>\n",
       "      <th>0</th>\n",
       "      <td>0</td>\n",
       "      <td>pemerintah lampung bantuan mahasiswa derasnya ...</td>\n",
       "      <td>negative</td>\n",
       "      <td>['pemerintah', 'lampung', 'bantuan', 'mahasisw...</td>\n",
       "      <td>&lt;FreqDist with 12 samples and 14 outcomes&gt;</td>\n",
       "      <td>['pemerintah', 'lampung', 'bantuan', 'mahasisw...</td>\n",
       "      <td>['pemerintah', 'lampung', 'bantuan', 'mahasisw...</td>\n",
       "      <td>['perintah', 'lampung', 'bantu', 'mahasiswa', ...</td>\n",
       "    </tr>\n",
       "    <tr>\n",
       "      <th>1</th>\n",
       "      <td>1</td>\n",
       "      <td>pemerintah menerapkan herd immunity kemampuan ...</td>\n",
       "      <td>negative</td>\n",
       "      <td>['pemerintah', 'menerapkan', 'herd', 'immunity...</td>\n",
       "      <td>&lt;FreqDist with 18 samples and 19 outcomes&gt;</td>\n",
       "      <td>['pemerintah', 'menerapkan', 'herd', 'immunity...</td>\n",
       "      <td>['pemerintah', 'menerapkan', 'herd', 'immunity...</td>\n",
       "      <td>['perintah', 'terap', 'herd', 'immunity', 'mam...</td>\n",
       "    </tr>\n",
       "    <tr>\n",
       "      <th>2</th>\n",
       "      <td>2</td>\n",
       "      <td>lakukan makanan berbuka sahur kepala keluarga ...</td>\n",
       "      <td>positive</td>\n",
       "      <td>['lakukan', 'makanan', 'berbuka', 'sahur', 'ke...</td>\n",
       "      <td>&lt;FreqDist with 20 samples and 20 outcomes&gt;</td>\n",
       "      <td>['lakukan', 'makanan', 'berbuka', 'sahur', 'ke...</td>\n",
       "      <td>['lakukan', 'makanan', 'berbuka', 'sahur', 'ke...</td>\n",
       "      <td>['laku', 'makan', 'buka', 'sahur', 'kepala', '...</td>\n",
       "    </tr>\n",
       "    <tr>\n",
       "      <th>3</th>\n",
       "      <td>3</td>\n",
       "      <td>warga positif corona bupati kondisi menuntut k...</td>\n",
       "      <td>positive</td>\n",
       "      <td>['warga', 'positif', 'corona', 'bupati', 'kond...</td>\n",
       "      <td>&lt;FreqDist with 21 samples and 23 outcomes&gt;</td>\n",
       "      <td>['warga', 'positif', 'corona', 'bupati', 'kond...</td>\n",
       "      <td>['warga', 'positif', 'corona', 'bupati', 'kond...</td>\n",
       "      <td>['warga', 'positif', 'corona', 'bupati', 'kond...</td>\n",
       "    </tr>\n",
       "    <tr>\n",
       "      <th>4</th>\n",
       "      <td>4</td>\n",
       "      <td>emosi banget kondisi disuruh liputan covid dos...</td>\n",
       "      <td>negative</td>\n",
       "      <td>['emosi', 'banget', 'kondisi', 'disuruh', 'lip...</td>\n",
       "      <td>&lt;FreqDist with 13 samples and 15 outcomes&gt;</td>\n",
       "      <td>['emosi', 'banget', 'kondisi', 'disuruh', 'lip...</td>\n",
       "      <td>['emosi', 'banget', 'kondisi', 'disuruh', 'lip...</td>\n",
       "      <td>['emosi', 'banget', 'kondisi', 'suruh', 'liput...</td>\n",
       "    </tr>\n",
       "    <tr>\n",
       "      <th>...</th>\n",
       "      <td>...</td>\n",
       "      <td>...</td>\n",
       "      <td>...</td>\n",
       "      <td>...</td>\n",
       "      <td>...</td>\n",
       "      <td>...</td>\n",
       "      <td>...</td>\n",
       "      <td>...</td>\n",
       "    </tr>\n",
       "    <tr>\n",
       "      <th>36917</th>\n",
       "      <td>36917</td>\n",
       "      <td>hoaks hoaks beredar covid pemerintah mengendal...</td>\n",
       "      <td>positive</td>\n",
       "      <td>['hoaks', 'hoaks', 'beredar', 'covid', 'pemeri...</td>\n",
       "      <td>&lt;FreqDist with 12 samples and 13 outcomes&gt;</td>\n",
       "      <td>['hoaks', 'hoaks', 'beredar', 'covid', 'pemeri...</td>\n",
       "      <td>['hoaks', 'hoaks', 'beredar', 'covid', 'pemeri...</td>\n",
       "      <td>['hoaks', 'hoaks', 'edar', 'covid', 'perintah'...</td>\n",
       "    </tr>\n",
       "    <tr>\n",
       "      <th>36918</th>\n",
       "      <td>36918</td>\n",
       "      <td>tingginya covid majelis permusyawaratan rakyat...</td>\n",
       "      <td>positive</td>\n",
       "      <td>['tingginya', 'covid', 'majelis', 'permusyawar...</td>\n",
       "      <td>&lt;FreqDist with 11 samples and 12 outcomes&gt;</td>\n",
       "      <td>['tingginya', 'covid', 'majelis', 'permusyawar...</td>\n",
       "      <td>['tingginya', 'covid', 'majelis', 'permusyawar...</td>\n",
       "      <td>['tinggi', 'covid', 'majelis', 'musyawarat', '...</td>\n",
       "    </tr>\n",
       "    <tr>\n",
       "      <th>36919</th>\n",
       "      <td>36919</td>\n",
       "      <td>pakai masker cuci hand sanitizer namanya idiot...</td>\n",
       "      <td>negative</td>\n",
       "      <td>['pakai', 'masker', 'cuci', 'hand', 'sanitizer...</td>\n",
       "      <td>&lt;FreqDist with 14 samples and 14 outcomes&gt;</td>\n",
       "      <td>['pakai', 'masker', 'cuci', 'hand', 'sanitizer...</td>\n",
       "      <td>['pakai', 'masker', 'cuci', 'hand', 'sanitizer...</td>\n",
       "      <td>['pakai', 'masker', 'cuci', 'hand', 'sanitizer...</td>\n",
       "    </tr>\n",
       "    <tr>\n",
       "      <th>36920</th>\n",
       "      <td>36920</td>\n",
       "      <td>kabupaten aceh selatan zona hijau terlibat pem...</td>\n",
       "      <td>negative</td>\n",
       "      <td>['kabupaten', 'aceh', 'selatan', 'zona', 'hija...</td>\n",
       "      <td>&lt;FreqDist with 15 samples and 17 outcomes&gt;</td>\n",
       "      <td>['kabupaten', 'aceh', 'selatan', 'zona', 'hija...</td>\n",
       "      <td>['kabupaten', 'aceh', 'selatan', 'zona', 'hija...</td>\n",
       "      <td>['kabupaten', 'aceh', 'selatan', 'zona', 'hija...</td>\n",
       "    </tr>\n",
       "    <tr>\n",
       "      <th>36921</th>\n",
       "      <td>36921</td>\n",
       "      <td>keluyurann rumah pekerjaan beli sembako jalan ...</td>\n",
       "      <td>negative</td>\n",
       "      <td>['keluyurann', 'rumah', 'pekerjaan', 'beli', '...</td>\n",
       "      <td>&lt;FreqDist with 13 samples and 14 outcomes&gt;</td>\n",
       "      <td>['keluyurann', 'rumah', 'pekerjaan', 'beli', '...</td>\n",
       "      <td>['keluyurann', 'rumah', 'pekerjaan', 'beli', '...</td>\n",
       "      <td>['keluyurann', 'rumah', 'kerja', 'beli', 'semb...</td>\n",
       "    </tr>\n",
       "  </tbody>\n",
       "</table>\n",
       "<p>36922 rows × 8 columns</p>\n",
       "</div>"
      ],
      "text/plain": [
       "       Unnamed: 0  ...                               tweet_tokens_stemmed\n",
       "0               0  ...  ['perintah', 'lampung', 'bantu', 'mahasiswa', ...\n",
       "1               1  ...  ['perintah', 'terap', 'herd', 'immunity', 'mam...\n",
       "2               2  ...  ['laku', 'makan', 'buka', 'sahur', 'kepala', '...\n",
       "3               3  ...  ['warga', 'positif', 'corona', 'bupati', 'kond...\n",
       "4               4  ...  ['emosi', 'banget', 'kondisi', 'suruh', 'liput...\n",
       "...           ...  ...                                                ...\n",
       "36917       36917  ...  ['hoaks', 'hoaks', 'edar', 'covid', 'perintah'...\n",
       "36918       36918  ...  ['tinggi', 'covid', 'majelis', 'musyawarat', '...\n",
       "36919       36919  ...  ['pakai', 'masker', 'cuci', 'hand', 'sanitizer...\n",
       "36920       36920  ...  ['kabupaten', 'aceh', 'selatan', 'zona', 'hija...\n",
       "36921       36921  ...  ['keluyurann', 'rumah', 'kerja', 'beli', 'semb...\n",
       "\n",
       "[36922 rows x 8 columns]"
      ]
     },
     "execution_count": 64,
     "metadata": {
      "tags": []
     },
     "output_type": "execute_result"
    }
   ],
   "source": [
    "data"
   ]
  },
  {
   "cell_type": "code",
   "execution_count": null,
   "metadata": {
    "id": "VPDPdNNclY6t"
   },
   "outputs": [],
   "source": [
    "data = pd.read_csv('Text_Preprocessing.csv',encoding='utf-8',error_bad_lines=False)\n",
    "data.klasifikasi.replace(['negative','positive'],[0,1],inplace=True)"
   ]
  },
  {
   "cell_type": "code",
   "execution_count": null,
   "metadata": {
    "id": "oQ6YLwStS66m"
   },
   "outputs": [],
   "source": [
    "X=data.tweet_tokens_stemmed\n",
    "y=data.klasifikasi"
   ]
  },
  {
   "cell_type": "code",
   "execution_count": null,
   "metadata": {
    "colab": {
     "base_uri": "https://localhost:8080/"
    },
    "id": "yEynGi6YTiZH",
    "outputId": "8dfbdc7b-392f-4a81-f75b-126f156642f7"
   },
   "outputs": [
    {
     "name": "stdout",
     "output_type": "stream",
     "text": [
      "10949    ['kayak', 'orang', 'dua', 'pasang', 'cocokpeme...\n",
      "29505    ['kali', 'isu', 'cuat', 'perintah', 'kerja', '...\n",
      "25998    ['dosen', 'fakultas', 'ilmu', 'sosial', 'ilmu'...\n",
      "20602    ['mayoritas', 'publik', 'kecewa', 'berat', 'ta...\n",
      "35751    ['metrohariini', 'patung', 'liberty', 'new', '...\n",
      "                               ...                        \n",
      "4041     ['perintah', 'umum', 'tambah', 'positif', 'vir...\n",
      "22220    ['mending', 'media', 'influencers', 'perintah'...\n",
      "31553    ['individu', 'serah', 'kena', 'covid', 'jatuh'...\n",
      "35229    ['halo', 'guys', 'kentaki', 'fried', 'chicken'...\n",
      "18431    ['perintah', 'gagap', 'atas', 'covid', 'orang'...\n",
      "Name: tweet_tokens_stemmed, Length: 35075, dtype: object\n"
     ]
    }
   ],
   "source": [
    "# Taking 95% of the dataset into training data and 5% to test data\n",
    "X_train, X_test, y_train, y_test = train_test_split(X,y,test_size = 0.05, random_state =26105111)\n",
    "print(X_train)"
   ]
  },
  {
   "cell_type": "code",
   "execution_count": null,
   "metadata": {
    "colab": {
     "base_uri": "https://localhost:8080/"
    },
    "id": "fXaulL2Mb8AX",
    "outputId": "7a0a3dab-9fcd-4be1-a537-1629c05705c8"
   },
   "outputs": [
    {
     "name": "stdout",
     "output_type": "stream",
     "text": [
      "10949    1\n",
      "29505    0\n",
      "25998    1\n",
      "20602    0\n",
      "35751    1\n",
      "        ..\n",
      "4041     1\n",
      "22220    1\n",
      "31553    0\n",
      "35229    0\n",
      "18431    0\n",
      "Name: klasifikasi, Length: 35075, dtype: int64\n"
     ]
    }
   ],
   "source": [
    "print(y_train)"
   ]
  },
  {
   "cell_type": "code",
   "execution_count": null,
   "metadata": {
    "colab": {
     "base_uri": "https://localhost:8080/"
    },
    "id": "PV4DTDuQcm1l",
    "outputId": "800fd9a5-5e03-4d96-ee5e-c01bcd470773"
   },
   "outputs": [
    {
     "name": "stdout",
     "output_type": "stream",
     "text": [
      "12678    ['perintah', 'sigap', 'rakyat', 'remeh', 'taat...\n",
      "13682    ['habib', 'jaga', 'ketat', 'takut', 'nusa', 'k...\n",
      "20660    ['nehemia', 'lawalata', 'perintah', 'patut', '...\n",
      "2809     ['muhadjir', 'effendy', 'perintah', 'optimisti...\n",
      "9320     ['stopmudikcegahcovid', 'bantu', 'perintah', '...\n",
      "                               ...                        \n",
      "27814    ['tim', 'ahli', 'medis', 'tiongkok', 'kirim', ...\n",
      "23440    ['sebab', 'rupiah', 'kuat', 'faktor', 'interna...\n",
      "12373    ['apresiasi', 'khusus', 'perintah', 'martir', ...\n",
      "34997    ['pers', 'polisi', 'sektor', 'kerumutan', 'imb...\n",
      "8969     ['posko', 'adu', 'daring', 'covid', 'ombudsman...\n",
      "Name: tweet_tokens_stemmed, Length: 1847, dtype: object\n"
     ]
    }
   ],
   "source": [
    "print(X_test)"
   ]
  },
  {
   "cell_type": "code",
   "execution_count": null,
   "metadata": {
    "colab": {
     "base_uri": "https://localhost:8080/"
    },
    "id": "3G2z2vQycpsq",
    "outputId": "627558f1-0e0b-4a87-c63c-b9c780097563"
   },
   "outputs": [
    {
     "name": "stdout",
     "output_type": "stream",
     "text": [
      "12678    0\n",
      "13682    0\n",
      "20660    0\n",
      "2809     0\n",
      "9320     0\n",
      "        ..\n",
      "27814    1\n",
      "23440    1\n",
      "12373    1\n",
      "34997    1\n",
      "8969     0\n",
      "Name: klasifikasi, Length: 1847, dtype: int64\n"
     ]
    }
   ],
   "source": [
    "print(y_test)"
   ]
  },
  {
   "cell_type": "code",
   "execution_count": null,
   "metadata": {
    "colab": {
     "base_uri": "https://localhost:8080/"
    },
    "id": "W30lnokqTzfZ",
    "outputId": "2d107ebf-afde-4f66-ac1a-c0cdf93a9022"
   },
   "outputs": [
    {
     "name": "stdout",
     "output_type": "stream",
     "text": [
      "No. of feature_words:  233636\n"
     ]
    }
   ],
   "source": [
    "# Refer the following for TfidfVectorizer function \n",
    "# https://scikit-learn.org/stable/modules/generated/sklearn.feature_extraction.text.TfidfVectorizer.html\n",
    "vectoriser = TfidfVectorizer(ngram_range=(1,2), max_features=500000)\n",
    "vectoriser.fit(X_train)\n",
    "print('No. of feature_words: ', len(vectoriser.get_feature_names()))"
   ]
  },
  {
   "cell_type": "code",
   "execution_count": null,
   "metadata": {
    "id": "iVE_pExGT2ho"
   },
   "outputs": [],
   "source": [
    "X_train = vectoriser.transform(X_train)\n",
    "X_test  = vectoriser.transform(X_test)"
   ]
  },
  {
   "cell_type": "code",
   "execution_count": null,
   "metadata": {
    "id": "3E0N7RART5J6"
   },
   "outputs": [],
   "source": [
    "def model_Evaluate(model):\n",
    "  # Predict values for Test dataset\n",
    "  y_pred = model.predict(X_test)\n",
    "  # Print the evaluation metrics for the dataset.\n",
    "  print(classification_report(y_test, y_pred))\n",
    "  # Compute and plot the Confusion matrix\n",
    "  cf_matrix = confusion_matrix(y_test, y_pred)\n",
    "  categories = ['negative','positive']\n",
    "  group_names = ['True Neg','False Pos', 'False Neg','True Pos']\n",
    "  group_percentages = ['{0:.2%}'.format(value) for value in cf_matrix.flatten() / np.sum(cf_matrix)]\n",
    "  labels = [f'{v1}n{v2}' for v1, v2 in zip(group_names,group_percentages)]\n",
    "  labels = np.asarray(labels).reshape(2,2)\n",
    "  sns.heatmap(cf_matrix, annot = labels, cmap = 'Blues',fmt = '',\n",
    "  xticklabels = categories, yticklabels = categories)\n",
    "  plt.xlabel(\"Predicted values\", fontdict = {'size':14}, labelpad = 10)\n",
    "  plt.ylabel(\"Actual values\" , fontdict = {'size':14}, labelpad = 10)\n",
    "  plt.title (\"Confusion Matrix\", fontdict = {'size':18}, pad = 20)"
   ]
  },
  {
   "cell_type": "code",
   "execution_count": null,
   "metadata": {
    "colab": {
     "base_uri": "https://localhost:8080/",
     "height": 476
    },
    "id": "EQ1u996hY2qB",
    "outputId": "f6823173-189a-48e9-b009-567db38b10bd"
   },
   "outputs": [
    {
     "name": "stdout",
     "output_type": "stream",
     "text": [
      "              precision    recall  f1-score   support\n",
      "\n",
      "           0       0.73      0.95      0.82      1068\n",
      "           1       0.88      0.51      0.65       779\n",
      "\n",
      "    accuracy                           0.76      1847\n",
      "   macro avg       0.80      0.73      0.74      1847\n",
      "weighted avg       0.79      0.76      0.75      1847\n",
      "\n"
     ]
    },
    {
     "data": {
      "image/png": "[encoded data removed]",
      "text/plain": [
       "<Figure size 432x288 with 2 Axes>"
      ]
     },
     "metadata": {
      "needs_background": "light",
      "tags": []
     },
     "output_type": "display_data"
    }
   ],
   "source": [
    "# Bernoulli Naive Byes Classification and model evaluation\n",
    "from sklearn.naive_bayes import BernoulliNB \n",
    "BNBmodel = BernoulliNB()\n",
    "BNBmodel.fit(X_train, y_train)\n",
    "model_Evaluate(BNBmodel)\n",
    "y_pred1 = BNBmodel.predict(X_test)"
   ]
  },
  {
   "cell_type": "code",
   "execution_count": null,
   "metadata": {
    "colab": {
     "base_uri": "https://localhost:8080/",
     "height": 476
    },
    "id": "Stt43WjyT8Wh",
    "outputId": "b91389ee-e874-4892-9b67-21ec8619bfe3"
   },
   "outputs": [
    {
     "name": "stdout",
     "output_type": "stream",
     "text": [
      "              precision    recall  f1-score   support\n",
      "\n",
      "           0       0.85      0.89      0.87      1068\n",
      "           1       0.83      0.78      0.81       779\n",
      "\n",
      "    accuracy                           0.84      1847\n",
      "   macro avg       0.84      0.83      0.84      1847\n",
      "weighted avg       0.84      0.84      0.84      1847\n",
      "\n"
     ]
    },
    {
     "data": {
      "image/png": "[encoded data removed]",
      "text/plain": [
       "<Figure size 432x288 with 2 Axes>"
      ]
     },
     "metadata": {
      "needs_background": "light",
      "tags": []
     },
     "output_type": "display_data"
    }
   ],
   "source": [
    "# Support Vector Machine Classification and model evaluation\n",
    "from sklearn.svm import LinearSVC\n",
    "SVCmodel = LinearSVC()\n",
    "SVCmodel.fit(X_train, y_train)\n",
    "model_Evaluate(SVCmodel)\n",
    "y_pred2 = SVCmodel.predict(X_test)"
   ]
  },
  {
   "cell_type": "code",
   "execution_count": null,
   "metadata": {
    "colab": {
     "base_uri": "https://localhost:8080/",
     "height": 295
    },
    "id": "hTqOa-5Fc7Tn",
    "outputId": "e6883e6b-6b0e-45f4-e714-ae1da51cbbdc"
   },
   "outputs": [
    {
     "data": {
      "image/png": "[encoded data removed]",
      "text/plain": [
       "<Figure size 432x288 with 1 Axes>"
      ]
     },
     "metadata": {
      "needs_background": "light",
      "tags": []
     },
     "output_type": "display_data"
    }
   ],
   "source": [
    "# ROC-AUC Curve\n",
    "from sklearn.metrics import roc_curve, auc\n",
    "fpr, tpr, thresholds = roc_curve(y_test, y_pred2)\n",
    "roc_auc = auc(fpr, tpr)\n",
    "plt.figure()\n",
    "plt.plot(fpr, tpr, color='darkorange', lw=1, label='ROC curve (area = %0.2f)' % roc_auc)\n",
    "plt.xlim([0.0, 1.0])\n",
    "plt.ylim([0.0, 1.05])\n",
    "plt.xlabel('False Positive Rate')\n",
    "plt.ylabel('True Positive Rate')\n",
    "plt.title('ROC CURVE')\n",
    "plt.legend(loc=\"lower right\")\n",
    "plt.show()"
   ]
  }
 ],
 "metadata": {
  "colab": {
   "collapsed_sections": [],
   "name": "TF-IDF,Confus Matrix,ROC Curve",
   "provenance": []
  },
  "kernelspec": {
   "display_name": "Python 3 (ipykernel)",
   "language": "python",
   "name": "python3"
  },
  "language_info": {
   "codemirror_mode": {
    "name": "ipython",
    "version": 3
   },
   "file_extension": ".py",
   "mimetype": "text/x-python",
   "name": "python",
   "nbconvert_exporter": "python",
   "pygments_lexer": "ipython3",
   "version": "3.10.4"
  }
 },
 "nbformat": 4,
 "nbformat_minor": 1
}
