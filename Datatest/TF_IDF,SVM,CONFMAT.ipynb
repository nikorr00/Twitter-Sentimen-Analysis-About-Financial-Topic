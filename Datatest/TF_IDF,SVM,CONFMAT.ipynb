{
 "cells": [
  {
   "cell_type": "code",
   "execution_count": 1,
   "metadata": {
    "id": "ytFFZSlJyo1M"
   },
   "outputs": [],
   "source": [
    "\n",
    "from sklearn.model_selection import train_test_split\n",
    "import numpy as np\n",
    "import pandas as pd\n",
    "import os\n",
    "import collections\n",
    "import re\n",
    "import string"
   ]
  },
  {
   "cell_type": "code",
   "execution_count": 2,
   "metadata": {
    "colab": {
     "base_uri": "https://localhost:8080/",
     "height": 206
    },
    "id": "Du99nVuSzExu",
    "outputId": "25065698-2169-44bb-ea9b-48de953a100a"
   },
   "outputs": [
    {
     "data": {
      "text/html": [
       "<div>\n",
       "<style scoped>\n",
       "    .dataframe tbody tr th:only-of-type {\n",
       "        vertical-align: middle;\n",
       "    }\n",
       "\n",
       "    .dataframe tbody tr th {\n",
       "        vertical-align: top;\n",
       "    }\n",
       "\n",
       "    .dataframe thead th {\n",
       "        text-align: right;\n",
       "    }\n",
       "</style>\n",
       "<table border=\"1\" class=\"dataframe\">\n",
       "  <thead>\n",
       "    <tr style=\"text-align: right;\">\n",
       "      <th></th>\n",
       "      <th>Unnamed: 0</th>\n",
       "      <th>tweet</th>\n",
       "      <th>klasifikasi</th>\n",
       "      <th>tweet_tokens</th>\n",
       "      <th>tweet_tokens_fdist</th>\n",
       "      <th>tweet_tokens_WSW</th>\n",
       "      <th>tweet_normalized</th>\n",
       "      <th>tweet_tokens_stemmed</th>\n",
       "    </tr>\n",
       "  </thead>\n",
       "  <tbody>\n",
       "    <tr>\n",
       "      <th>0</th>\n",
       "      <td>0</td>\n",
       "      <td>pemerintah lampung bantuan mahasiswa derasnya ...</td>\n",
       "      <td>negative</td>\n",
       "      <td>['pemerintah', 'lampung', 'bantuan', 'mahasisw...</td>\n",
       "      <td>&lt;FreqDist with 12 samples and 14 outcomes&gt;</td>\n",
       "      <td>['pemerintah', 'lampung', 'bantuan', 'mahasisw...</td>\n",
       "      <td>['pemerintah', 'lampung', 'bantuan', 'mahasisw...</td>\n",
       "      <td>['perintah', 'lampung', 'bantu', 'mahasiswa', ...</td>\n",
       "    </tr>\n",
       "    <tr>\n",
       "      <th>1</th>\n",
       "      <td>1</td>\n",
       "      <td>pemerintah menerapkan herd immunity kemampuan ...</td>\n",
       "      <td>negative</td>\n",
       "      <td>['pemerintah', 'menerapkan', 'herd', 'immunity...</td>\n",
       "      <td>&lt;FreqDist with 18 samples and 19 outcomes&gt;</td>\n",
       "      <td>['pemerintah', 'menerapkan', 'herd', 'immunity...</td>\n",
       "      <td>['pemerintah', 'menerapkan', 'herd', 'immunity...</td>\n",
       "      <td>['perintah', 'terap', 'herd', 'immunity', 'mam...</td>\n",
       "    </tr>\n",
       "    <tr>\n",
       "      <th>2</th>\n",
       "      <td>2</td>\n",
       "      <td>lakukan makanan berbuka sahur kepala keluarga ...</td>\n",
       "      <td>positive</td>\n",
       "      <td>['lakukan', 'makanan', 'berbuka', 'sahur', 'ke...</td>\n",
       "      <td>&lt;FreqDist with 20 samples and 20 outcomes&gt;</td>\n",
       "      <td>['lakukan', 'makanan', 'berbuka', 'sahur', 'ke...</td>\n",
       "      <td>['lakukan', 'makanan', 'berbuka', 'sahur', 'ke...</td>\n",
       "      <td>['laku', 'makan', 'buka', 'sahur', 'kepala', '...</td>\n",
       "    </tr>\n",
       "    <tr>\n",
       "      <th>3</th>\n",
       "      <td>3</td>\n",
       "      <td>warga positif corona bupati kondisi menuntut k...</td>\n",
       "      <td>positive</td>\n",
       "      <td>['warga', 'positif', 'corona', 'bupati', 'kond...</td>\n",
       "      <td>&lt;FreqDist with 21 samples and 23 outcomes&gt;</td>\n",
       "      <td>['warga', 'positif', 'corona', 'bupati', 'kond...</td>\n",
       "      <td>['warga', 'positif', 'corona', 'bupati', 'kond...</td>\n",
       "      <td>['warga', 'positif', 'corona', 'bupati', 'kond...</td>\n",
       "    </tr>\n",
       "    <tr>\n",
       "      <th>4</th>\n",
       "      <td>4</td>\n",
       "      <td>emosi banget kondisi disuruh liputan covid dos...</td>\n",
       "      <td>negative</td>\n",
       "      <td>['emosi', 'banget', 'kondisi', 'disuruh', 'lip...</td>\n",
       "      <td>&lt;FreqDist with 13 samples and 15 outcomes&gt;</td>\n",
       "      <td>['emosi', 'banget', 'kondisi', 'disuruh', 'lip...</td>\n",
       "      <td>['emosi', 'banget', 'kondisi', 'disuruh', 'lip...</td>\n",
       "      <td>['emosi', 'banget', 'kondisi', 'suruh', 'liput...</td>\n",
       "    </tr>\n",
       "  </tbody>\n",
       "</table>\n",
       "</div>"
      ],
      "text/plain": [
       "   Unnamed: 0  ...                               tweet_tokens_stemmed\n",
       "0           0  ...  ['perintah', 'lampung', 'bantu', 'mahasiswa', ...\n",
       "1           1  ...  ['perintah', 'terap', 'herd', 'immunity', 'mam...\n",
       "2           2  ...  ['laku', 'makan', 'buka', 'sahur', 'kepala', '...\n",
       "3           3  ...  ['warga', 'positif', 'corona', 'bupati', 'kond...\n",
       "4           4  ...  ['emosi', 'banget', 'kondisi', 'suruh', 'liput...\n",
       "\n",
       "[5 rows x 8 columns]"
      ]
     },
     "execution_count": 2,
     "metadata": {},
     "output_type": "execute_result"
    }
   ],
   "source": [
    "data= pd.read_csv(r\"Text_Preprocessing.csv\")\n",
    "data.head()"
   ]
  },
  {
   "cell_type": "code",
   "execution_count": 3,
   "metadata": {
    "id": "HNPyFBevzT5Z"
   },
   "outputs": [],
   "source": [
    "data = pd.read_csv('Text_Preprocessing.csv',encoding='utf-8',error_bad_lines=False)\n",
    "data.klasifikasi.replace(['negative','positive'],[0,1],inplace=True)"
   ]
  },
  {
   "cell_type": "code",
   "execution_count": 4,
   "metadata": {
    "colab": {
     "base_uri": "https://localhost:8080/",
     "height": 424
    },
    "id": "epnfEvJ1z2pa",
    "outputId": "d64bc958-9407-4617-8906-4ed42275b414"
   },
   "outputs": [
    {
     "data": {
      "text/html": [
       "<div>\n",
       "<style scoped>\n",
       "    .dataframe tbody tr th:only-of-type {\n",
       "        vertical-align: middle;\n",
       "    }\n",
       "\n",
       "    .dataframe tbody tr th {\n",
       "        vertical-align: top;\n",
       "    }\n",
       "\n",
       "    .dataframe thead th {\n",
       "        text-align: right;\n",
       "    }\n",
       "</style>\n",
       "<table border=\"1\" class=\"dataframe\">\n",
       "  <thead>\n",
       "    <tr style=\"text-align: right;\">\n",
       "      <th></th>\n",
       "      <th>Unnamed: 0</th>\n",
       "      <th>tweet</th>\n",
       "      <th>klasifikasi</th>\n",
       "      <th>tweet_tokens</th>\n",
       "      <th>tweet_tokens_fdist</th>\n",
       "      <th>tweet_tokens_WSW</th>\n",
       "      <th>tweet_normalized</th>\n",
       "      <th>tweet_tokens_stemmed</th>\n",
       "    </tr>\n",
       "  </thead>\n",
       "  <tbody>\n",
       "    <tr>\n",
       "      <th>0</th>\n",
       "      <td>0</td>\n",
       "      <td>pemerintah lampung bantuan mahasiswa derasnya ...</td>\n",
       "      <td>0</td>\n",
       "      <td>['pemerintah', 'lampung', 'bantuan', 'mahasisw...</td>\n",
       "      <td>&lt;FreqDist with 12 samples and 14 outcomes&gt;</td>\n",
       "      <td>['pemerintah', 'lampung', 'bantuan', 'mahasisw...</td>\n",
       "      <td>['pemerintah', 'lampung', 'bantuan', 'mahasisw...</td>\n",
       "      <td>['perintah', 'lampung', 'bantu', 'mahasiswa', ...</td>\n",
       "    </tr>\n",
       "    <tr>\n",
       "      <th>1</th>\n",
       "      <td>1</td>\n",
       "      <td>pemerintah menerapkan herd immunity kemampuan ...</td>\n",
       "      <td>0</td>\n",
       "      <td>['pemerintah', 'menerapkan', 'herd', 'immunity...</td>\n",
       "      <td>&lt;FreqDist with 18 samples and 19 outcomes&gt;</td>\n",
       "      <td>['pemerintah', 'menerapkan', 'herd', 'immunity...</td>\n",
       "      <td>['pemerintah', 'menerapkan', 'herd', 'immunity...</td>\n",
       "      <td>['perintah', 'terap', 'herd', 'immunity', 'mam...</td>\n",
       "    </tr>\n",
       "    <tr>\n",
       "      <th>2</th>\n",
       "      <td>2</td>\n",
       "      <td>lakukan makanan berbuka sahur kepala keluarga ...</td>\n",
       "      <td>1</td>\n",
       "      <td>['lakukan', 'makanan', 'berbuka', 'sahur', 'ke...</td>\n",
       "      <td>&lt;FreqDist with 20 samples and 20 outcomes&gt;</td>\n",
       "      <td>['lakukan', 'makanan', 'berbuka', 'sahur', 'ke...</td>\n",
       "      <td>['lakukan', 'makanan', 'berbuka', 'sahur', 'ke...</td>\n",
       "      <td>['laku', 'makan', 'buka', 'sahur', 'kepala', '...</td>\n",
       "    </tr>\n",
       "    <tr>\n",
       "      <th>3</th>\n",
       "      <td>3</td>\n",
       "      <td>warga positif corona bupati kondisi menuntut k...</td>\n",
       "      <td>1</td>\n",
       "      <td>['warga', 'positif', 'corona', 'bupati', 'kond...</td>\n",
       "      <td>&lt;FreqDist with 21 samples and 23 outcomes&gt;</td>\n",
       "      <td>['warga', 'positif', 'corona', 'bupati', 'kond...</td>\n",
       "      <td>['warga', 'positif', 'corona', 'bupati', 'kond...</td>\n",
       "      <td>['warga', 'positif', 'corona', 'bupati', 'kond...</td>\n",
       "    </tr>\n",
       "    <tr>\n",
       "      <th>4</th>\n",
       "      <td>4</td>\n",
       "      <td>emosi banget kondisi disuruh liputan covid dos...</td>\n",
       "      <td>0</td>\n",
       "      <td>['emosi', 'banget', 'kondisi', 'disuruh', 'lip...</td>\n",
       "      <td>&lt;FreqDist with 13 samples and 15 outcomes&gt;</td>\n",
       "      <td>['emosi', 'banget', 'kondisi', 'disuruh', 'lip...</td>\n",
       "      <td>['emosi', 'banget', 'kondisi', 'disuruh', 'lip...</td>\n",
       "      <td>['emosi', 'banget', 'kondisi', 'suruh', 'liput...</td>\n",
       "    </tr>\n",
       "    <tr>\n",
       "      <th>...</th>\n",
       "      <td>...</td>\n",
       "      <td>...</td>\n",
       "      <td>...</td>\n",
       "      <td>...</td>\n",
       "      <td>...</td>\n",
       "      <td>...</td>\n",
       "      <td>...</td>\n",
       "      <td>...</td>\n",
       "    </tr>\n",
       "    <tr>\n",
       "      <th>36917</th>\n",
       "      <td>36917</td>\n",
       "      <td>hoaks hoaks beredar covid pemerintah mengendal...</td>\n",
       "      <td>1</td>\n",
       "      <td>['hoaks', 'hoaks', 'beredar', 'covid', 'pemeri...</td>\n",
       "      <td>&lt;FreqDist with 12 samples and 13 outcomes&gt;</td>\n",
       "      <td>['hoaks', 'hoaks', 'beredar', 'covid', 'pemeri...</td>\n",
       "      <td>['hoaks', 'hoaks', 'beredar', 'covid', 'pemeri...</td>\n",
       "      <td>['hoaks', 'hoaks', 'edar', 'covid', 'perintah'...</td>\n",
       "    </tr>\n",
       "    <tr>\n",
       "      <th>36918</th>\n",
       "      <td>36918</td>\n",
       "      <td>tingginya covid majelis permusyawaratan rakyat...</td>\n",
       "      <td>1</td>\n",
       "      <td>['tingginya', 'covid', 'majelis', 'permusyawar...</td>\n",
       "      <td>&lt;FreqDist with 11 samples and 12 outcomes&gt;</td>\n",
       "      <td>['tingginya', 'covid', 'majelis', 'permusyawar...</td>\n",
       "      <td>['tingginya', 'covid', 'majelis', 'permusyawar...</td>\n",
       "      <td>['tinggi', 'covid', 'majelis', 'musyawarat', '...</td>\n",
       "    </tr>\n",
       "    <tr>\n",
       "      <th>36919</th>\n",
       "      <td>36919</td>\n",
       "      <td>pakai masker cuci hand sanitizer namanya idiot...</td>\n",
       "      <td>0</td>\n",
       "      <td>['pakai', 'masker', 'cuci', 'hand', 'sanitizer...</td>\n",
       "      <td>&lt;FreqDist with 14 samples and 14 outcomes&gt;</td>\n",
       "      <td>['pakai', 'masker', 'cuci', 'hand', 'sanitizer...</td>\n",
       "      <td>['pakai', 'masker', 'cuci', 'hand', 'sanitizer...</td>\n",
       "      <td>['pakai', 'masker', 'cuci', 'hand', 'sanitizer...</td>\n",
       "    </tr>\n",
       "    <tr>\n",
       "      <th>36920</th>\n",
       "      <td>36920</td>\n",
       "      <td>kabupaten aceh selatan zona hijau terlibat pem...</td>\n",
       "      <td>0</td>\n",
       "      <td>['kabupaten', 'aceh', 'selatan', 'zona', 'hija...</td>\n",
       "      <td>&lt;FreqDist with 15 samples and 17 outcomes&gt;</td>\n",
       "      <td>['kabupaten', 'aceh', 'selatan', 'zona', 'hija...</td>\n",
       "      <td>['kabupaten', 'aceh', 'selatan', 'zona', 'hija...</td>\n",
       "      <td>['kabupaten', 'aceh', 'selatan', 'zona', 'hija...</td>\n",
       "    </tr>\n",
       "    <tr>\n",
       "      <th>36921</th>\n",
       "      <td>36921</td>\n",
       "      <td>keluyurann rumah pekerjaan beli sembako jalan ...</td>\n",
       "      <td>0</td>\n",
       "      <td>['keluyurann', 'rumah', 'pekerjaan', 'beli', '...</td>\n",
       "      <td>&lt;FreqDist with 13 samples and 14 outcomes&gt;</td>\n",
       "      <td>['keluyurann', 'rumah', 'pekerjaan', 'beli', '...</td>\n",
       "      <td>['keluyurann', 'rumah', 'pekerjaan', 'beli', '...</td>\n",
       "      <td>['keluyurann', 'rumah', 'kerja', 'beli', 'semb...</td>\n",
       "    </tr>\n",
       "  </tbody>\n",
       "</table>\n",
       "<p>36922 rows × 8 columns</p>\n",
       "</div>"
      ],
      "text/plain": [
       "       Unnamed: 0  ...                               tweet_tokens_stemmed\n",
       "0               0  ...  ['perintah', 'lampung', 'bantu', 'mahasiswa', ...\n",
       "1               1  ...  ['perintah', 'terap', 'herd', 'immunity', 'mam...\n",
       "2               2  ...  ['laku', 'makan', 'buka', 'sahur', 'kepala', '...\n",
       "3               3  ...  ['warga', 'positif', 'corona', 'bupati', 'kond...\n",
       "4               4  ...  ['emosi', 'banget', 'kondisi', 'suruh', 'liput...\n",
       "...           ...  ...                                                ...\n",
       "36917       36917  ...  ['hoaks', 'hoaks', 'edar', 'covid', 'perintah'...\n",
       "36918       36918  ...  ['tinggi', 'covid', 'majelis', 'musyawarat', '...\n",
       "36919       36919  ...  ['pakai', 'masker', 'cuci', 'hand', 'sanitizer...\n",
       "36920       36920  ...  ['kabupaten', 'aceh', 'selatan', 'zona', 'hija...\n",
       "36921       36921  ...  ['keluyurann', 'rumah', 'kerja', 'beli', 'semb...\n",
       "\n",
       "[36922 rows x 8 columns]"
      ]
     },
     "execution_count": 4,
     "metadata": {},
     "output_type": "execute_result"
    }
   ],
   "source": [
    "data"
   ]
  },
  {
   "cell_type": "code",
   "execution_count": 4,
   "metadata": {
    "colab": {
     "base_uri": "https://localhost:8080/"
    },
    "id": "xqBa3e28z-qB",
    "outputId": "47985109-2487-4401-c605-c9cc87204aa8"
   },
   "outputs": [
    {
     "name": "stderr",
     "output_type": "stream",
     "text": [
      "/usr/local/lib/python3.7/dist-packages/ipykernel_launcher.py:3: SettingWithCopyWarning: \n",
      "A value is trying to be set on a copy of a slice from a DataFrame.\n",
      "Try using .loc[row_indexer,col_indexer] = value instead\n",
      "\n",
      "See the caveats in the documentation: https://pandas.pydata.org/pandas-docs/stable/user_guide/indexing.html#returning-a-view-versus-a-copy\n",
      "  This is separate from the ipykernel package so we can avoid doing imports until\n",
      "/usr/local/lib/python3.7/dist-packages/ipykernel_launcher.py:4: SettingWithCopyWarning: \n",
      "A value is trying to be set on a copy of a slice from a DataFrame.\n",
      "Try using .loc[row_indexer,col_indexer] = value instead\n",
      "\n",
      "See the caveats in the documentation: https://pandas.pydata.org/pandas-docs/stable/user_guide/indexing.html#returning-a-view-versus-a-copy\n",
      "  after removing the cwd from sys.path.\n"
     ]
    }
   ],
   "source": [
    "#data_train, data_test = train_test_split(data, test_size=0.30, random_state=42)\n",
    "data_train, data_test = train_test_split(data, test_size=0.30)\n",
    "data_train['tweet']=data_train['tweet'].values.astype('U')\n",
    "data_test['tweet']=data_test['tweet'].values.astype('U')"
   ]
  },
  {
   "cell_type": "code",
   "execution_count": 5,
   "metadata": {
    "id": "Pk0UiVix0TfK"
   },
   "outputs": [],
   "source": [
    "from sklearn.feature_extraction.text import TfidfVectorizer\n",
    "# Create feature vectors\n",
    "#vectorizer = TfidfVectorizer(min_df = 5,\n",
    " #                            max_df = 0.8,\n",
    "  #                           sublinear_tf = True,\n",
    "   #                          use_idf = True)\n",
    "vectorizer = TfidfVectorizer()\n",
    "train_vectors = vectorizer.fit_transform(data_train['tweet'])\n",
    "test_vectors = vectorizer.transform(data_test['tweet'])"
   ]
  },
  {
   "cell_type": "code",
   "execution_count": null,
   "metadata": {
    "colab": {
     "base_uri": "https://localhost:8080/"
    },
    "id": "eT7fsfSGMSbY",
    "outputId": "cbeb50db-c08d-46e5-f9bd-8b16ecdbba94"
   },
   "outputs": [
    {
     "name": "stdout",
     "output_type": "stream",
     "text": [
      "  (0, 4868)\t0.0647597328390235\n",
      "  (0, 11167)\t0.4029854598930546\n",
      "  (0, 21776)\t0.06489517716548106\n",
      "  (0, 24272)\t0.27079955139631695\n",
      "  (0, 25004)\t0.42189925398200756\n",
      "  (0, 25145)\t0.36884215936220144\n",
      "  (0, 25234)\t0.3191055172468851\n",
      "  (0, 31206)\t0.3433670310718287\n",
      "  (0, 31935)\t0.47126674703779553\n",
      "  (1, 1346)\t0.1944066540381598\n",
      "  (1, 2228)\t0.24280612942443883\n",
      "  (1, 2323)\t0.22538449137290473\n",
      "  (1, 4868)\t0.06419720550278195\n",
      "  (1, 5242)\t0.14166935364361333\n",
      "  (1, 8772)\t0.21721577478650586\n",
      "  (1, 9134)\t0.2808026699900705\n",
      "  (1, 10078)\t0.20730273267121954\n",
      "  (1, 15093)\t0.17550395860393367\n",
      "  (1, 15964)\t0.2952877647016691\n",
      "  (1, 20591)\t0.23786595091001386\n",
      "  (1, 20731)\t0.23576584248755453\n",
      "  (1, 20785)\t0.32244173307789503\n",
      "  (1, 21581)\t0.2148980621504991\n",
      "  (1, 21668)\t0.15816682350043115\n",
      "  (1, 21776)\t0.03216573665450169\n",
      "  :\t:\n",
      "  (25843, 22975)\t0.2907342628979602\n",
      "  (25843, 23963)\t0.24704760652067914\n",
      "  (25843, 26258)\t0.22003643811953347\n",
      "  (25843, 27087)\t0.28518405379078404\n",
      "  (25843, 31935)\t0.22188196496803964\n",
      "  (25844, 490)\t0.25059012664632907\n",
      "  (25844, 2962)\t0.28356901797878964\n",
      "  (25844, 3851)\t0.2534310345488634\n",
      "  (25844, 4868)\t0.03127803064828179\n",
      "  (25844, 5149)\t0.14648208084495812\n",
      "  (25844, 7797)\t0.12288888811878702\n",
      "  (25844, 10170)\t0.18273777204057537\n",
      "  (25844, 10682)\t0.2076395962734268\n",
      "  (25844, 10959)\t0.3052149321481156\n",
      "  (25844, 13415)\t0.18886728996043714\n",
      "  (25844, 14416)\t0.21245348353758411\n",
      "  (25844, 15814)\t0.42027841242042263\n",
      "  (25844, 17723)\t0.3052149321481156\n",
      "  (25844, 19570)\t0.14135848737599271\n",
      "  (25844, 21776)\t0.03134344833313552\n",
      "  (25844, 21948)\t0.1636688617832792\n",
      "  (25844, 22000)\t0.0985115310564149\n",
      "  (25844, 22142)\t0.2582449218130207\n",
      "  (25844, 24021)\t0.2947319279787266\n",
      "  (25844, 25234)\t0.1541234299606228\n"
     ]
    }
   ],
   "source": [
    "print (train_vectors)"
   ]
  },
  {
   "cell_type": "code",
   "execution_count": null,
   "metadata": {
    "colab": {
     "base_uri": "https://localhost:8080/"
    },
    "id": "TWbCypMsMfPx",
    "outputId": "de7fd095-c3f1-47a1-d0b1-47eb55af7b30"
   },
   "outputs": [
    {
     "name": "stdout",
     "output_type": "stream",
     "text": [
      "  (0, 865)\t0.16471906258839442\n",
      "  (0, 4868)\t0.03379786843587159\n",
      "  (0, 6558)\t0.2707783052890602\n",
      "  (0, 8402)\t0.2830242959479191\n",
      "  (0, 13315)\t0.29273192516055685\n",
      "  (0, 14288)\t0.20705603750182688\n",
      "  (0, 16500)\t0.18596268962955076\n",
      "  (0, 17765)\t0.32227400199925993\n",
      "  (0, 18029)\t0.24260864408277896\n",
      "  (0, 18314)\t0.23731610518707605\n",
      "  (0, 19646)\t0.13134581803566903\n",
      "  (0, 21776)\t0.03386855633598039\n",
      "  (0, 24940)\t0.30243955437319464\n",
      "  (0, 27810)\t0.13528796075082195\n",
      "  (0, 30128)\t0.32227400199925993\n",
      "  (0, 31214)\t0.20408291972413947\n",
      "  (0, 31223)\t0.3064140600764748\n",
      "  (0, 31241)\t0.26181233882623034\n",
      "  (1, 4868)\t0.08119805117995177\n",
      "  (1, 11887)\t0.2790100898852393\n",
      "  (1, 12820)\t0.3330114821781552\n",
      "  (1, 13684)\t0.3961703657133799\n",
      "  (1, 18252)\t0.2937907794799534\n",
      "  (1, 18624)\t0.30599597613932705\n",
      "  (1, 19734)\t0.1537156929127365\n",
      "  :\t:\n",
      "  (11075, 23250)\t0.16264398556521045\n",
      "  (11075, 25234)\t0.12938339068559637\n",
      "  (11075, 27985)\t0.17489168476117123\n",
      "  (11075, 28700)\t0.19521048538690453\n",
      "  (11075, 29543)\t0.11168352187674985\n",
      "  (11076, 504)\t0.27866777413404076\n",
      "  (11076, 1346)\t0.22311985980782137\n",
      "  (11076, 2761)\t0.27766001068166807\n",
      "  (11076, 4417)\t0.17899475338998566\n",
      "  (11076, 4868)\t0.0368394578948492\n",
      "  (11076, 11901)\t0.2738842815618215\n",
      "  (11076, 14438)\t0.1437612257228011\n",
      "  (11076, 15521)\t0.2658566829490092\n",
      "  (11076, 16235)\t0.23115846741953855\n",
      "  (11076, 16263)\t0.2276783910361499\n",
      "  (11076, 17703)\t0.24000314889459662\n",
      "  (11076, 20731)\t0.13529383030523864\n",
      "  (11076, 21769)\t0.23060116789319846\n",
      "  (11076, 21776)\t0.03691650724855843\n",
      "  (11076, 24771)\t0.20295806630078492\n",
      "  (11076, 25846)\t0.2176763793531282\n",
      "  (11076, 26594)\t0.21615155726987514\n",
      "  (11076, 26999)\t0.3700652873044627\n",
      "  (11076, 28853)\t0.24259182955973554\n",
      "  (11076, 29796)\t0.16999367110409155\n"
     ]
    }
   ],
   "source": [
    "print (test_vectors)"
   ]
  },
  {
   "cell_type": "code",
   "execution_count": 9,
   "metadata": {
    "colab": {
     "base_uri": "https://localhost:8080/"
    },
    "id": "6tqvl5ZM0dC-",
    "outputId": "9ffbe287-691a-4b6e-fa95-d7300ec69405"
   },
   "outputs": [
    {
     "name": "stdout",
     "output_type": "stream",
     "text": [
      "[LibLinear]Training time: 0.242601s; Prediction time: 0.001772s\n",
      "positive:  {'precision': 0.8275355218030377, 'recall': 0.7523385300668152, 'f1-score': 0.7881474568362109, 'support': 4490}\n",
      "negative:  {'precision': 0.8410293066476054, 'recall': 0.8931228176711705, 'f1-score': 0.8662936239140038, 'support': 6587}\n"
     ]
    }
   ],
   "source": [
    "import time\n",
    "from sklearn import svm\n",
    "from sklearn.metrics import classification_report\n",
    "from sklearn.svm import LinearSVC\n",
    "# Perform classification with SVM, kernel=linear\n",
    "classifier_linear = LinearSVC(verbose=1)\n",
    "t0 = time.time()\n",
    "history = classifier_linear.fit(train_vectors, data_train['klasifikasi'])\n",
    "t1 = time.time()\n",
    "prediction_linear = classifier_linear.predict(test_vectors)\n",
    "t2 = time.time()\n",
    "time_linear_train = t1-t0\n",
    "time_linear_predict = t2-t1\n",
    "# results\n",
    "print(\"Training time: %fs; Prediction time: %fs\" % (time_linear_train, time_linear_predict))\n",
    "report = classification_report(data_test['klasifikasi'], prediction_linear, output_dict=True)\n",
    "print('positive: ', report['1'])\n",
    "print('negative: ', report['0'])\n",
    "y_train_hat=classifier_linear.predict(train_vectors)\n",
    "y_test_hat=classifier_linear.predict(test_vectors)\n",
    "\n",
    "#print( \"train accuracy= \"  ,np.mean(y_train_hat == data_train['sentiment'])*100)\n",
    "#print (\"test accuracy= \"  ,np.mean(y_test_hat == data_test['sentiment'])*100)"
   ]
  },
  {
   "cell_type": "code",
   "execution_count": null,
   "metadata": {
    "id": "MsV8q_ifcAzy"
   },
   "outputs": [],
   "source": [
    "from google.colab import drive\n",
    "drive.mount('/content/drive')"
   ]
  },
  {
   "cell_type": "code",
   "execution_count": 12,
   "metadata": {
    "colab": {
     "base_uri": "https://localhost:8080/"
    },
    "id": "Q2IeKZZ71Zze",
    "outputId": "a94840c0-6bb7-417d-8c7e-5f60be25a155"
   },
   "outputs": [
    {
     "name": "stdout",
     "output_type": "stream",
     "text": [
      "train accuracy=  91.38324627587541\n",
      "test accuracy=  83.97580572357136\n"
     ]
    }
   ],
   "source": [
    "import numpy as np\n",
    "#lin_svm=svm.LinearSVC()\n",
    "lin_svm= svm.SVC(kernel='linear',C=1)\n",
    "lin_svm.fit(train_vectors, data_train['klasifikasi'])\n",
    "#lin_svm.fit(test_vectors, data_test['sentiment'])\n",
    "y_train_hat=lin_svm.predict(train_vectors)\n",
    "y_test_hat=lin_svm.predict(test_vectors)\n",
    "\n",
    "print( \"train accuracy= \"  ,np.mean(y_train_hat == data_train['klasifikasi'])*100)\n",
    "print (\"test accuracy= \"  ,np.mean(y_test_hat == data_test['klasifikasi'])*100)"
   ]
  },
  {
   "cell_type": "code",
   "execution_count": 13,
   "metadata": {
    "id": "WjEN78-43R-R"
   },
   "outputs": [],
   "source": [
    "import numpy as np\n",
    "import matplotlib.pyplot as plt\n",
    "from sklearn import svm, datasets\n",
    "from sklearn.model_selection import train_test_split\n",
    "from sklearn.metrics import plot_confusion_matrix"
   ]
  },
  {
   "cell_type": "code",
   "execution_count": 14,
   "metadata": {
    "colab": {
     "base_uri": "https://localhost:8080/",
     "height": 577
    },
    "id": "ZPC3BDGD3IPF",
    "outputId": "638b8875-554a-4ec7-dfa1-6bca236100d8"
   },
   "outputs": [
    {
     "name": "stdout",
     "output_type": "stream",
     "text": [
      "Accuracy score is 91%.\n",
      "\n",
      "Classification Report:\n",
      "              precision    recall  f1-score   support\n",
      "\n",
      "           0       0.91      0.95      0.93     15473\n",
      "           1       0.92      0.85      0.89     10372\n",
      "\n",
      "    accuracy                           0.91     25845\n",
      "   macro avg       0.92      0.90      0.91     25845\n",
      "weighted avg       0.91      0.91      0.91     25845\n",
      "\n",
      "\n",
      "Confusion Matrix:\n"
     ]
    },
    {
     "data": {
      "image/png": "[encoded data removed]",
      "text/plain": [
       "<Figure size 720x360 with 2 Axes>"
      ]
     },
     "metadata": {
      "needs_background": "light"
     },
     "output_type": "display_data"
    }
   ],
   "source": [
    "import seaborn as sns\n",
    "from sklearn.metrics import accuracy_score\n",
    "from sklearn.metrics import confusion_matrix\n",
    "from sklearn.metrics import classification_report\n",
    "\n",
    "accuracy = accuracy_score(data_train['klasifikasi'],y_train_hat) * 100\n",
    "print(\"Accuracy score is {}%.\".format(round(accuracy),1))\n",
    "print()\n",
    "print(\"Classification Report:\")\n",
    "print(classification_report(data_train['klasifikasi'], y_train_hat))\n",
    "print()\n",
    "\n",
    "print(\"Confusion Matrix:\")\n",
    "f, ax = plt.subplots(figsize=(10,5))\n",
    "sns.heatmap(confusion_matrix(data_train['klasifikasi'],y_train_hat), annot=True, fmt=\".0f\", ax=ax)\n",
    "plt.xlabel(\"True Label\")\n",
    "plt.ylabel(\"Predicted Label\")\n",
    "plt.show()"
   ]
  },
  {
   "cell_type": "code",
   "execution_count": 23,
   "metadata": {
    "colab": {
     "base_uri": "https://localhost:8080/",
     "height": 294
    },
    "id": "tA0AOVhKaasG",
    "outputId": "0dd1cdc3-5b25-4194-d702-ae65f775f0f5"
   },
   "outputs": [
    {
     "data": {
      "image/png": "[encoded data removed]",
      "text/plain": [
       "<Figure size 432x288 with 1 Axes>"
      ]
     },
     "metadata": {
      "needs_background": "light"
     },
     "output_type": "display_data"
    }
   ],
   "source": [
    "# ROC-AUC Curve\n",
    "from sklearn.metrics import roc_curve, auc\n",
    "import matplotlib.pyplot as plt\n",
    "fpr, tpr, thresholds = roc_curve(data_train['klasifikasi'], y_train_hat)\n",
    "roc_auc = auc(fpr, tpr)\n",
    "plt.figure()\n",
    "plt.plot(fpr, tpr, color='darkorange', lw=1, label='ROC curve (area = %0.2f)' % roc_auc)\n",
    "plt.xlim([0.0, 1.0])\n",
    "plt.ylim([0.0, 1.05])\n",
    "plt.xlabel('False Positive Rate')\n",
    "plt.ylabel('True Positive Rate')\n",
    "plt.title('ROC CURVE')\n",
    "plt.legend(loc=\"lower right\")\n",
    "plt.show()"
   ]
  },
  {
   "cell_type": "code",
   "execution_count": 26,
   "metadata": {
    "colab": {
     "base_uri": "https://localhost:8080/",
     "height": 312
    },
    "id": "V5O-iPHOwiHC",
    "outputId": "56502473-6806-417c-a571-0166ec0c0077"
   },
   "outputs": [
    {
     "name": "stdout",
     "output_type": "stream",
     "text": [
      "Area Under Curve: 0.9041020449166282\n"
     ]
    },
    {
     "data": {
      "image/png": "[encoded data removed]",
      "text/plain": [
       "<Figure size 432x288 with 1 Axes>"
      ]
     },
     "metadata": {
      "needs_background": "light"
     },
     "output_type": "display_data"
    }
   ],
   "source": [
    "\n",
    "from sklearn.metrics import roc_curve\n",
    "from sklearn.metrics import roc_auc_score\n",
    "\n",
    "auc = roc_auc_score(data_train['klasifikasi'], y_train_hat)\n",
    "print('Area Under Curve:', auc)\n",
    "fpr, tpr, thresholds = roc_curve(data_train['klasifikasi'], y_train_hat)\n",
    "plt.plot([0, 1], [0, 1], linestyle='--')\n",
    "plt.plot(fpr, tpr, marker='.')\n",
    "plt.title('ROC Curve')\n",
    "plt.xlabel('True Positive Rate')\n",
    "plt.ylabel('False Positive Rate')\n",
    "plt.show()"
   ]
  }
 ],
 "metadata": {
  "colab": {
   "collapsed_sections": [],
   "name": "TF-IDF,SVM,CONFMAT",
   "provenance": []
  },
  "kernelspec": {
   "display_name": "Python 3 (ipykernel)",
   "language": "python",
   "name": "python3"
  },
  "language_info": {
   "codemirror_mode": {
    "name": "ipython",
    "version": 3
   },
   "file_extension": ".py",
   "mimetype": "text/x-python",
   "name": "python",
   "nbconvert_exporter": "python",
   "pygments_lexer": "ipython3",
   "version": "3.10.4"
  }
 },
 "nbformat": 4,
 "nbformat_minor": 1
}
