{
 "cells": [
  {
   "cell_type": "code",
   "execution_count": 147,
   "metadata": {
    "id": "rCXEJQwl8qOC"
   },
   "outputs": [],
   "source": [
    "import tweepy\n",
    "import pandas as pd\n",
    "import numpy as np\n",
    "import re\n",
    "from wordcloud import WordCloud\n",
    "import matplotlib.pyplot as plt\n",
    "from sklearn.model_selection import train_test_split\n",
    "from sklearn.feature_extraction.text import TfidfVectorizer\n",
    "from sklearn.svm import SVC\n",
    "from sklearn.metrics import f1_score, recall_score, precision_score, confusion_matrix, accuracy_score\n",
    "from yellowbrick.text import TSNEVisualizer\n",
    "import os\n",
    "from sklearn.preprocessing import MinMaxScaler\n",
    "from sklearn.model_selection import validation_curve\n",
    "from sklearn.model_selection import learning_curve"
   ]
  },
  {
   "cell_type": "code",
   "execution_count": 148,
   "metadata": {
    "id": "91oaNOJM8w6q"
   },
   "outputs": [],
   "source": [
    "data = pd.read_csv('datacovid19clean.csv',encoding='utf-8',error_bad_lines=False)"
   ]
  },
  {
   "cell_type": "code",
   "execution_count": 149,
   "metadata": {
    "colab": {
     "base_uri": "https://localhost:8080/",
     "height": 306
    },
    "id": "um0ZeKTTH2qI",
    "outputId": "8872ce01-9088-4e46-fb2c-3cbd38176778"
   },
   "outputs": [
    {
     "data": {
      "text/html": [
       "<div>\n",
       "<style scoped>\n",
       "    .dataframe tbody tr th:only-of-type {\n",
       "        vertical-align: middle;\n",
       "    }\n",
       "\n",
       "    .dataframe tbody tr th {\n",
       "        vertical-align: top;\n",
       "    }\n",
       "\n",
       "    .dataframe thead th {\n",
       "        text-align: right;\n",
       "    }\n",
       "</style>\n",
       "<table border=\"1\" class=\"dataframe\">\n",
       "  <thead>\n",
       "    <tr style=\"text-align: right;\">\n",
       "      <th></th>\n",
       "      <th>Unnamed: 0</th>\n",
       "      <th>tweet</th>\n",
       "      <th>klasifikasi</th>\n",
       "      <th>tweet_tokens</th>\n",
       "      <th>tweet_tokens_fdist</th>\n",
       "      <th>tweet_tokens_WSW</th>\n",
       "      <th>Text_normalisasi</th>\n",
       "      <th>Text_bersih</th>\n",
       "    </tr>\n",
       "  </thead>\n",
       "  <tbody>\n",
       "    <tr>\n",
       "      <th>0</th>\n",
       "      <td>0</td>\n",
       "      <td>waspada covid melandai waspada tukang jualan v...</td>\n",
       "      <td>0</td>\n",
       "      <td>['waspada', 'covid', 'melandai', 'waspada', 't...</td>\n",
       "      <td>&lt;FreqDist with 15 samples and 16 outcomes&gt;</td>\n",
       "      <td>['waspada', 'covid', 'melandai', 'waspada', 't...</td>\n",
       "      <td>['waspada', 'covid', 'melandai', 'waspada', 't...</td>\n",
       "      <td>['waspada', 'covid', 'landai', 'waspada', 'tuk...</td>\n",
       "    </tr>\n",
       "    <tr>\n",
       "      <th>1</th>\n",
       "      <td>1</td>\n",
       "      <td>sudah vaksin dosis kenapa harus rest pcr untuk...</td>\n",
       "      <td>0</td>\n",
       "      <td>['sudah', 'vaksin', 'dosis', 'kenapa', 'harus'...</td>\n",
       "      <td>&lt;FreqDist with 10 samples and 10 outcomes&gt;</td>\n",
       "      <td>['vaksin', 'dosis', 'rest', 'pcr', 'syarat', '...</td>\n",
       "      <td>['vaksin', 'dosis', 'rest', 'pcr', 'syarat', '...</td>\n",
       "      <td>['vaksin', 'dosis', 'rest', 'pcr', 'syarat', '...</td>\n",
       "    </tr>\n",
       "    <tr>\n",
       "      <th>2</th>\n",
       "      <td>2</td>\n",
       "      <td>yang tidak percaya covid tpi tetap ngikutin pr...</td>\n",
       "      <td>0</td>\n",
       "      <td>['yang', 'tidak', 'percaya', 'covid', 'tpi', '...</td>\n",
       "      <td>&lt;FreqDist with 12 samples and 12 outcomes&gt;</td>\n",
       "      <td>['percaya', 'covid', 'tpi', 'ngikutin', 'proto...</td>\n",
       "      <td>['percaya', 'covid', 'tapi', 'ngikutin', 'prot...</td>\n",
       "      <td>['percaya', 'covid', 'tapi', 'ngikutin', 'prot...</td>\n",
       "    </tr>\n",
       "    <tr>\n",
       "      <th>3</th>\n",
       "      <td>3</td>\n",
       "      <td>berita tahun penuh dengan terpapar penyakit ta...</td>\n",
       "      <td>1</td>\n",
       "      <td>['berita', 'tahun', 'penuh', 'dengan', 'terpap...</td>\n",
       "      <td>&lt;FreqDist with 14 samples and 19 outcomes&gt;</td>\n",
       "      <td>['berita', 'penuh', 'terpapar', 'penyakit', 'k...</td>\n",
       "      <td>['berita', 'penuh', 'terpapar', 'penyakit', 'k...</td>\n",
       "      <td>['berita', 'penuh', 'papar', 'sakit', 'naik', ...</td>\n",
       "    </tr>\n",
       "    <tr>\n",
       "      <th>4</th>\n",
       "      <td>4</td>\n",
       "      <td>yg satu pengen nguasai mars yg satu lg pengen ...</td>\n",
       "      <td>1</td>\n",
       "      <td>['yg', 'satu', 'pengen', 'nguasai', 'mars', 'y...</td>\n",
       "      <td>&lt;FreqDist with 21 samples and 27 outcomes&gt;</td>\n",
       "      <td>['pengen', 'nguasai', 'mars', 'pengen', 'angka...</td>\n",
       "      <td>['ingin', 'nguasai', 'mars', 'ingin', 'angkasa...</td>\n",
       "      <td>['ingin', 'nguasai', 'mars', 'ingin', 'angkasa...</td>\n",
       "    </tr>\n",
       "  </tbody>\n",
       "</table>\n",
       "</div>"
      ],
      "text/plain": [
       "   Unnamed: 0  ...                                        Text_bersih\n",
       "0           0  ...  ['waspada', 'covid', 'landai', 'waspada', 'tuk...\n",
       "1           1  ...  ['vaksin', 'dosis', 'rest', 'pcr', 'syarat', '...\n",
       "2           2  ...  ['percaya', 'covid', 'tapi', 'ngikutin', 'prot...\n",
       "3           3  ...  ['berita', 'penuh', 'papar', 'sakit', 'naik', ...\n",
       "4           4  ...  ['ingin', 'nguasai', 'mars', 'ingin', 'angkasa...\n",
       "\n",
       "[5 rows x 8 columns]"
      ]
     },
     "execution_count": 149,
     "metadata": {},
     "output_type": "execute_result"
    }
   ],
   "source": [
    "data.klasifikasi.replace(['negative','positive'],[0,1],inplace=True)\n",
    "data.head()"
   ]
  },
  {
   "cell_type": "code",
   "execution_count": 150,
   "metadata": {
    "colab": {
     "base_uri": "https://localhost:8080/"
    },
    "id": "PuVoQtIE8-x9",
    "outputId": "8f54f1db-625a-495f-b064-e01fd14f2741"
   },
   "outputs": [
    {
     "data": {
      "text/plain": [
       "positive    4359\n",
       "negative    4218\n",
       "Name: klasifikasi, dtype: int64"
      ]
     },
     "execution_count": 150,
     "metadata": {},
     "output_type": "execute_result"
    }
   ],
   "source": [
    "tweets_df['klasifikasi'].value_counts()"
   ]
  },
  {
   "cell_type": "code",
   "execution_count": 151,
   "metadata": {
    "id": "ccbIKfFU9F9f"
   },
   "outputs": [],
   "source": [
    "from sklearn import model_selection\n",
    "X_train, X_test, y_train, y_test = model_selection.train_test_split(tweets_df['Text_bersih'], tweets_df['klasifikasi'], test_size = 0.2)\n",
    "# random_state = 0 menyatakan tidak ada pengacakan pada data yang di split yang artinya urutannya masih sama"
   ]
  },
  {
   "cell_type": "code",
   "execution_count": 152,
   "metadata": {
    "id": "fh63j6SL9dE_"
   },
   "outputs": [],
   "source": [
    "data_train = pd.DataFrame()\n",
    "data_train['Text_bersih'] = X_train\n",
    "data_train['klasifikasi'] = y_train\n",
    "\n",
    "data_test = pd.DataFrame()\n",
    "data_test['Text_bersih'] = X_test\n",
    "data_test['klasifikasi'] = y_test"
   ]
  },
  {
   "cell_type": "code",
   "execution_count": 153,
   "metadata": {
    "id": "pSsg9kbA9ptH"
   },
   "outputs": [],
   "source": [
    "# TF-IDF\n",
    "from sklearn.feature_extraction.text import TfidfVectorizer\n",
    "tfidf = TfidfVectorizer()\n",
    "tfidf.fit(tweets_df['Text_bersih'])\n",
    "data_train_x = tfidf.transform(data_train['Text_bersih'])\n",
    "data_test_x= tfidf.transform(data_test['Text_bersih'])"
   ]
  },
  {
   "cell_type": "code",
   "execution_count": 154,
   "metadata": {
    "id": "R6d3mjVoA6ZR"
   },
   "outputs": [],
   "source": [
    "# Preprocessing and vectorizer for testing models\n",
    "def preprocess_data(data):\n",
    "    data = tfidf.transform([data])\n",
    "    \n",
    "    return data "
   ]
  },
  {
   "cell_type": "code",
   "execution_count": 155,
   "metadata": {
    "id": "AdS9VcmDDr_B"
   },
   "outputs": [],
   "source": [
    "from sklearn.svm import SVC\n",
    "linear = SVC(kernel='linear')\n",
    "linear.fit(data_train_x,y_train)\n",
    "linear1=linear.predict(data_test_x)"
   ]
  },
  {
   "cell_type": "code",
   "execution_count": 156,
   "metadata": {
    "id": "ihbq_V0PEBBL"
   },
   "outputs": [],
   "source": [
    "# Process of making models Klasifikasi SVM RBF\n",
    "rbf = SVC(kernel='rbf')\n",
    "rbf.fit(data_train_x,y_train)\n",
    "rbf1 = rbf.predict(data_test_x)"
   ]
  },
  {
   "cell_type": "code",
   "execution_count": 160,
   "metadata": {
    "colab": {
     "base_uri": "https://localhost:8080/"
    },
    "id": "w1EDdBHcEQ10",
    "outputId": "610ab6e9-fbf0-4689-d2d9-7c860ddc3ef2"
   },
   "outputs": [
    {
     "name": "stdout",
     "output_type": "stream",
     "text": [
      "\n",
      "Here is the classification report:\n",
      "              precision    recall  f1-score   support\n",
      "\n",
      "    negative       0.87      0.85      0.86       847\n",
      "    positive       0.86      0.88      0.87       869\n",
      "\n",
      "    accuracy                           0.87      1716\n",
      "   macro avg       0.87      0.87      0.87      1716\n",
      "weighted avg       0.87      0.87      0.87      1716\n",
      "\n",
      "True Positive :  764\n",
      "True Negative :  724\n",
      "False Positive :  123\n",
      "False Negative  :  105\n",
      "\n",
      "\n"
     ]
    }
   ],
   "source": [
    "from sklearn.metrics import accuracy_score\n",
    "\n",
    "predictions_SVC = linear.predict(data_test_x)\n",
    "test_prediction = pd.DataFrame()\n",
    "test_prediction['tweet'] = test_X\n",
    "test_prediction['klasifikasi'] = predictions_SVC\n",
    "SVC_accuracy= accuracy_score(predictions_SVC, y_test)*100\n",
    "SVC_accuracy= round(SVC_accuracy,1)\n",
    "# Accuracy, Precision, Recall, f1-score\n",
    "\n",
    "from sklearn.metrics import classification_report\n",
    "\n",
    "print (\"\\nHere is the classification report:\") \n",
    "print (classification_report(y_test, predictions_SVC))\n",
    "# Confusion matrixSVMLinear\n",
    "tn, fp, fn, tp = confusion_matrix(y_test, linear1).ravel()\n",
    "print(\"True Positive : \", tp)\n",
    "# Accuracy score\n",
    "print(\"True Negative : \", tn)\n",
    "# Precision score\n",
    "print(\"False Positive : \", fp)\n",
    "# Recall score\n",
    "print(\"False Negative  : \", fn)\n",
    "print('\\n')"
   ]
  },
  {
   "cell_type": "code",
   "execution_count": 161,
   "metadata": {
    "colab": {
     "base_uri": "https://localhost:8080/"
    },
    "id": "_A0ZLSPNE9P9",
    "outputId": "966307b8-fdc0-4537-ba87-0153b8d2cefa"
   },
   "outputs": [
    {
     "name": "stdout",
     "output_type": "stream",
     "text": [
      "\n",
      "Here is the classification report:\n",
      "              precision    recall  f1-score   support\n",
      "\n",
      "    negative       0.91      0.90      0.90       847\n",
      "    positive       0.90      0.91      0.91       869\n",
      "\n",
      "    accuracy                           0.91      1716\n",
      "   macro avg       0.91      0.91      0.91      1716\n",
      "weighted avg       0.91      0.91      0.91      1716\n",
      "\n",
      "True Positive :  794\n",
      "True Negative :  762\n",
      "False Positive :  85\n",
      "False Negative  :  75\n"
     ]
    }
   ],
   "source": [
    "from sklearn.metrics import accuracy_score\n",
    "\n",
    "predictions_RBF = rbf.predict(data_test_x)\n",
    "test_prediction_RBF = pd.DataFrame()\n",
    "test_prediction_RBF['tweet'] = test_X\n",
    "test_prediction_RBF['klasifikasi'] = predictions_RBF\n",
    "RBF_accuracy= accuracy_score(predictions_RBF, y_test)*100\n",
    "RBF_accuracy= round(RBF_accuracy,1)\n",
    "from sklearn.metrics import classification_report\n",
    "\n",
    "print (\"\\nHere is the classification report:\") \n",
    "print (classification_report(y_test, predictions_RBF))\n",
    "# Confusion matrixSVMRBF\n",
    "tn, fp, fn, tp = confusion_matrix(y_test, rbf1).ravel()\n",
    "print(\"True Positive : \", tp)\n",
    "# Accuracy score\n",
    "print(\"True Negative : \", tn)\n",
    "# Precision score\n",
    "print(\"False Positive : \", fp)\n",
    "# Recall score\n",
    "print(\"False Negative  : \", fn)"
   ]
  },
  {
   "cell_type": "code",
   "execution_count": 144,
   "metadata": {
    "id": "wTkzHku7OKNg"
   },
   "outputs": [],
   "source": [
    "#ROC Curve\n",
    "#from sklearn.metrics import roc_curve\n",
    "#from sklearn.metrics import roc_auc_score\n",
    "\n",
    "#auc = roc_auc_score(data_train['klasifikasi'],y_train)\n",
    "#print('Area Under Curve:', auc)\n",
    "#fpr, tpr, thresholds = roc_curve(data_train['klasifikasi'], y_train_hat)\n",
    "#plt.plot([0, 1], [0, 1], linestyle='--')\n",
    "#plt.plot(fpr, tpr, marker='.')\n",
    "#plt.title('ROC Curve')\n",
    "#plt.xlabel('True Positive Rate')\n",
    "#plt.ylabel('False Positive Rate')\n",
    "#plt.show()"
   ]
  },
  {
   "cell_type": "code",
   "execution_count": 131,
   "metadata": {
    "colab": {
     "base_uri": "https://localhost:8080/",
     "height": 302
    },
    "id": "CQ6WHQ_nFd-9",
    "outputId": "b6ccf2a5-e120-4da1-cd04-73a86334a2b8"
   },
   "outputs": [
    {
     "data": {
      "image/png": "[encoded data removed]",
      "text/plain": [
       "<Figure size 432x288 with 1 Axes>"
      ]
     },
     "metadata": {
      "needs_background": "light"
     },
     "output_type": "display_data"
    }
   ],
   "source": [
    "#Validation curve SVM Linear\n",
    "param_range = np.logspace(-3, 2, 20)\n",
    "train_scores, test_scores = validation_curve(SVC(kernel='linear', gamma=1, C=1), data_train_x, y_train, param_name='gamma', param_range=param_range, scoring=\"accuracy\", n_jobs=-1)\n",
    "train_scores_mean = np.mean(train_scores, axis=1)\n",
    "train_scores_std = np.std(train_scores, axis=1)\n",
    "test_scores_mean = np.mean(test_scores, axis=1)\n",
    "test_scores_std = np.std(test_scores, axis=1)\n",
    "\n",
    "plt.title(\"Validation Curve with SVM Kernel Linear\")\n",
    "plt.xlabel(r\"$\\gamma$ (gamma)\")\n",
    "plt.ylabel(\"Score\")\n",
    "plt.ylim(0.0, 1.1)\n",
    "lw = 2\n",
    "plt.semilogx(param_range, train_scores_mean, label=\"Training score\",\n",
    "             color=\"darkorange\", lw=lw)\n",
    "plt.fill_between(param_range, train_scores_mean - train_scores_std,\n",
    "                 train_scores_mean + train_scores_std, alpha=0.2,\n",
    "                 color=\"darkorange\", lw=lw)\n",
    "plt.semilogx(param_range, test_scores_mean, label=\"Cross-validation score\",\n",
    "             color=\"navy\", lw=lw)\n",
    "plt.fill_between(param_range, test_scores_mean - test_scores_std,\n",
    "                 test_scores_mean + test_scores_std, alpha=0.2,\n",
    "                 color=\"navy\", lw=lw)\n",
    "#fig2=plt.fill_between(param_range, test_scores_mean - test_scores_std, test_scores_mean + test_scores_std, alpha=0.2, color='navy', lw=lw)\n",
    "#fig2.figure.savefig('fig2.png', bbox_inches='tight')\n",
    "plt.legend(loc=\"best\")\n",
    "plt.show()"
   ]
  },
  {
   "cell_type": "code",
   "execution_count": 132,
   "metadata": {
    "colab": {
     "base_uri": "https://localhost:8080/",
     "height": 302
    },
    "id": "Vr6x6nloK11q",
    "outputId": "e602ddba-fcfc-4a39-e3ff-2319ea82458c"
   },
   "outputs": [
    {
     "data": {
      "image/png": "[encoded data removed]",
      "text/plain": [
       "<Figure size 432x288 with 1 Axes>"
      ]
     },
     "metadata": {
      "needs_background": "light"
     },
     "output_type": "display_data"
    }
   ],
   "source": [
    "#Validation curve SVM RBF\n",
    "param_range = np.logspace(-3, 2, 20)\n",
    "train_scores, test_scores = validation_curve(SVC(kernel=\"rbf\", gamma=1, C=1), data_train_x, y_train, param_name='gamma', param_range=param_range, scoring=\"accuracy\", n_jobs=1)\n",
    "train_scores_mean = np.mean(train_scores, axis=1)\n",
    "train_scores_std = np.std(train_scores, axis=1)\n",
    "test_scores_mean = np.mean(test_scores, axis=1)\n",
    "test_scores_std = np.std(test_scores, axis=1)\n",
    "\n",
    "plt.title(\"Validation Curve with SVM Kernel RBF\")\n",
    "plt.xlabel(r\"$\\gamma$ (gamma)\")\n",
    "plt.ylabel(\"Score\")\n",
    "plt.ylim(0.0, 1.1)\n",
    "lw = 2\n",
    "plt.semilogx(param_range, train_scores_mean, label=\"Training score\",\n",
    "             color=\"darkorange\", lw=lw)\n",
    "plt.fill_between(param_range, train_scores_mean - train_scores_std,\n",
    "                 train_scores_mean + train_scores_std, alpha=0.2,\n",
    "                 color=\"darkorange\", lw=lw)\n",
    "plt.semilogx(param_range, test_scores_mean, label=\"Cross-validation score\",\n",
    "             color=\"navy\", lw=lw)\n",
    "plt.fill_between(param_range, test_scores_mean - test_scores_std,\n",
    "                 test_scores_mean + test_scores_std, alpha=0.2,\n",
    "                 color=\"navy\", lw=lw)\n",
    "#fig2=plt.fill_between(param_range, test_scores_mean - test_scores_std, test_scores_mean + test_scores_std, alpha=0.2, color='navy', lw=lw)\n",
    "#fig2.figure.savefig('fig2.png', bbox_inches='tight')\n",
    "plt.legend(loc=\"best\")\n",
    "plt.show()"
   ]
  },
  {
   "cell_type": "code",
   "execution_count": 145,
   "metadata": {
    "colab": {
     "base_uri": "https://localhost:8080/",
     "height": 297
    },
    "id": "9J5bmIdxPJUD",
    "outputId": "8dc767c6-e103-4c9f-dfc1-f5e12dc19015"
   },
   "outputs": [
    {
     "data": {
      "image/png": "[encoded data removed]",
      "text/plain": [
       "<Figure size 432x288 with 1 Axes>"
      ]
     },
     "metadata": {
      "needs_background": "light"
     },
     "output_type": "display_data"
    }
   ],
   "source": [
    "#Learning Curve\n",
    "# Create CV training and test scores for various training set sizes\n",
    "train_sizes, train_scores, test_scores = learning_curve(SVC(kernel=\"linear\", gamma=1, C=1), data_train_x, y_train, cv=20, scoring='accuracy', n_jobs=-1, train_sizes=np.linspace(0.01, 1.0, 50))\n",
    "\n",
    "# Create means and standard deviations of training set scores\n",
    "train_mean = np.mean(train_scores, axis=1)\n",
    "train_std = np.std(train_scores, axis=1)\n",
    "\n",
    "# Create means and standard deviations of test set scores\n",
    "test_mean = np.mean(test_scores, axis=1)\n",
    "test_std = np.std(test_scores, axis=1)\n",
    "\n",
    "# Draw lines\n",
    "plt.plot(train_sizes, train_mean, '--', color=\"#111111\",  label=\"Training score\")\n",
    "plt.plot(train_sizes, test_mean, color=\"#111111\", label=\"Cross-validation score\")\n",
    "\n",
    "# Draw bands\n",
    "plt.fill_between(train_sizes, train_mean - train_std, train_mean + train_std, color=\"#DDDDDD\")\n",
    "plt.fill_between(train_sizes, test_mean - test_std, test_mean + test_std, color=\"#DDDDDD\")\n",
    "\n",
    "# Create plot\n",
    "plt.title(\"Learning Curve SVM Kernel Linear\")\n",
    "plt.xlabel(\"Training Set Size\"), plt.ylabel(\"Accuracy Score\"), plt.legend(loc=\"best\")\n",
    "plt.tight_layout()\n",
    "plt.show()"
   ]
  },
  {
   "cell_type": "code",
   "execution_count": 146,
   "metadata": {
    "colab": {
     "base_uri": "https://localhost:8080/",
     "height": 297
    },
    "id": "S753V_2VPOR3",
    "outputId": "ec2a384d-98ad-4c97-8266-8eec344a02f3"
   },
   "outputs": [
    {
     "data": {
      "image/png": "[encoded data removed]",
      "text/plain": [
       "<Figure size 432x288 with 1 Axes>"
      ]
     },
     "metadata": {
      "needs_background": "light"
     },
     "output_type": "display_data"
    }
   ],
   "source": [
    "#Learning Curve\n",
    "# Create CV training and test scores for various training set sizes\n",
    "train_sizes, train_scores, test_scores = learning_curve(SVC(kernel=\"rbf\", gamma=1, C=1), data_train_x, y_train, cv=20, scoring='accuracy', n_jobs=-1, train_sizes=np.linspace(0.01, 1.0, 50))\n",
    "\n",
    "# Create means and standard deviations of training set scores\n",
    "train_mean = np.mean(train_scores, axis=1)\n",
    "train_std = np.std(train_scores, axis=1)\n",
    "\n",
    "# Create means and standard deviations of test set scores\n",
    "test_mean = np.mean(test_scores, axis=1)\n",
    "test_std = np.std(test_scores, axis=1)\n",
    "\n",
    "# Draw lines\n",
    "plt.plot(train_sizes, train_mean, '--', color=\"#111111\",  label=\"Training score\")\n",
    "plt.plot(train_sizes, test_mean, color=\"#111111\", label=\"Cross-validation score\")\n",
    "\n",
    "# Draw bands\n",
    "plt.fill_between(train_sizes, train_mean - train_std, train_mean + train_std, color=\"#DDDDDD\")\n",
    "plt.fill_between(train_sizes, test_mean - test_std, test_mean + test_std, color=\"#DDDDDD\")\n",
    "\n",
    "# Create plot\n",
    "plt.title(\"Learning Curve SVM Kernel RBF\")\n",
    "plt.xlabel(\"Training Set Size\"), plt.ylabel(\"Accuracy Score\"), plt.legend(loc=\"best\")\n",
    "plt.tight_layout()\n",
    "plt.show()"
   ]
  }
 ],
 "metadata": {
  "colab": {
   "name": "Support vector machine ",
   "provenance": []
  },
  "kernelspec": {
   "display_name": "Python 3 (ipykernel)",
   "language": "python",
   "name": "python3"
  },
  "language_info": {
   "codemirror_mode": {
    "name": "ipython",
    "version": 3
   },
   "file_extension": ".py",
   "mimetype": "text/x-python",
   "name": "python",
   "nbconvert_exporter": "python",
   "pygments_lexer": "ipython3",
   "version": "3.10.4"
  }
 },
 "nbformat": 4,
 "nbformat_minor": 1
}
